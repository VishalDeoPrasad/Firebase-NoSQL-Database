{
 "cells": [
  {
   "cell_type": "code",
   "execution_count": 1,
   "metadata": {},
   "outputs": [],
   "source": [
    "import firebase_admin\n",
    "from firebase_admin import db, credentials"
   ]
  },
  {
   "cell_type": "code",
   "execution_count": 3,
   "metadata": {},
   "outputs": [
    {
     "data": {
      "text/plain": [
       "<firebase_admin.App at 0x21bc5fa3c20>"
      ]
     },
     "execution_count": 3,
     "metadata": {},
     "output_type": "execute_result"
    }
   ],
   "source": [
    "#authenticate to firebase\n",
    "url = \"https://test-626e2-default-rtdb.asia-southeast1.firebasedatabase.app/\"\n",
    "cred = credentials.Certificate(\"credentials.json\")\n",
    "firebase_admin.initialize_app(cred, {\"databaseURL\" : url })"
   ]
  },
  {
   "cell_type": "code",
   "execution_count": 8,
   "metadata": {},
   "outputs": [],
   "source": [
    "# creating reference to root node\n",
    "ref = db.reference(\"/\")"
   ]
  },
  {
   "cell_type": "code",
   "execution_count": 10,
   "metadata": {},
   "outputs": [
    {
     "name": "stdout",
     "output_type": "stream",
     "text": [
      "None\n"
     ]
    }
   ],
   "source": [
    "# retrieving data from root node\n",
    "print(ref.get())"
   ]
  },
  {
   "cell_type": "code",
   "execution_count": 14,
   "metadata": {},
   "outputs": [
    {
     "name": "stdout",
     "output_type": "stream",
     "text": [
      "None\n"
     ]
    }
   ],
   "source": [
    "print(db.reference(\"/videos\").get())"
   ]
  },
  {
   "cell_type": "code",
   "execution_count": null,
   "metadata": {},
   "outputs": [],
   "source": [
    "# set operation\n",
    "db.reference(\"/videos\").set(3)"
   ]
  },
  {
   "cell_type": "code",
   "execution_count": null,
   "metadata": {},
   "outputs": [],
   "source": [
    "# update operation (update existing value)\n",
    "db.reference(\"/\").update({\"language\":\"python\"})"
   ]
  },
  {
   "cell_type": "code",
   "execution_count": null,
   "metadata": {},
   "outputs": [],
   "source": [
    "# update operation (Add new key value)\n",
    "db.reference(\"/\").update({\"subscribed\": True})"
   ]
  },
  {
   "cell_type": "code",
   "execution_count": null,
   "metadata": {},
   "outputs": [],
   "source": [
    "# push operation\n",
    "db.reference(\"/titles\").push().set(\"Create modern UI in python\")"
   ]
  },
  {
   "cell_type": "code",
   "execution_count": null,
   "metadata": {},
   "outputs": [],
   "source": [
    "ref.get()"
   ]
  },
  {
   "cell_type": "code",
   "execution_count": null,
   "metadata": {},
   "outputs": [],
   "source": [
    "# delete operation\n",
    "db.reference(\"/language\").delete()"
   ]
  },
  {
   "cell_type": "code",
   "execution_count": null,
   "metadata": {},
   "outputs": [],
   "source": []
  },
  {
   "cell_type": "code",
   "execution_count": 4,
   "metadata": {},
   "outputs": [],
   "source": [
    "import pyrebase"
   ]
  },
  {
   "cell_type": "code",
   "execution_count": 2,
   "metadata": {},
   "outputs": [],
   "source": [
    "firebaseConfig = {\n",
    "  'apiKey': \"-------API keys---------\",\n",
    "  'authDomain': \"tesrebaseapp.com\",\n",
    "  'databaseURL': \"htttp- asedatabase.app\",\n",
    "  'projectId': \"t\",\n",
    "  'storageBucket': \" dfafdfasdfasdfm\",\n",
    "  'messagingSenderId': \"sdfasdfasgtwet34545435\",\n",
    "  'appId': \"1:453452345345345:web:4353452345345\",\n",
    "  'measurementId': \"G-6754yrhsdfhfdhsdffh\"\n",
    "}"
   ]
  },
  {
   "cell_type": "code",
   "execution_count": 26,
   "metadata": {},
   "outputs": [],
   "source": [
    "firebaseConfig = {\n",
    "  \"apiKey\": \"gdfgshghdfghfdzgarhdgsahhfdhdf\",\n",
    "  \"authDomain\": \"dfhargajaerhretartheh.firebaseapp.com\",\n",
    "  \"databaseURL\": \"https:/fgsdfgeartewhq34twegewSDFrebaseio.com\",\n",
    "  \"projectId\": \"fSADGASGAir-ASDAWETGEH4REG-9afa4\",\n",
    "  \"storageBucket\": \"FSDFSFAERYQREGATTEppspot.com\",\n",
    "  \"messagingSenderId\": \"SAWEFAGWERT3FGERAG\",\n",
    "  \"appId\": \"1:DFGAEGATERGAD:web:DSFHSDHSDFHSFDHAERHADH\",\n",
    "  \"measurementId\": \"G-DFHSJ45YAERY464ERYWYDF\"\n",
    "}"
   ]
  },
  {
   "cell_type": "code",
   "execution_count": 27,
   "metadata": {},
   "outputs": [],
   "source": [
    "#we are saying to pyrebase to initialize the app with given crediential\n",
    "firebase = pyrebase.initialize_app(firebaseConfig)"
   ]
  },
  {
   "cell_type": "markdown",
   "metadata": {},
   "source": [
    "### 1. Authentication"
   ]
  },
  {
   "cell_type": "code",
   "execution_count": 28,
   "metadata": {},
   "outputs": [],
   "source": [
    "#db = firebase.database()\n",
    "auth = firebase.auth() #connect to authentication\n",
    "#storage = firebase.storage()"
   ]
  },
  {
   "cell_type": "code",
   "execution_count": 31,
   "metadata": {},
   "outputs": [
    {
     "name": "stdout",
     "output_type": "stream",
     "text": [
      "Success!\n"
     ]
    }
   ],
   "source": [
    "email = input(\"Enter Your email\")\n",
    "password = input(\"Enter you password\")\n",
    "try:\n",
    "    auth.sign_in_with_email_and_password(email, password)\n",
    "    print(\"Success!\")\n",
    "except:\n",
    "    print(\"Invalid user or password. Try again.\")"
   ]
  },
  {
   "cell_type": "code",
   "execution_count": 30,
   "metadata": {},
   "outputs": [
    {
     "name": "stdout",
     "output_type": "stream",
     "text": [
      "Success!\n"
     ]
    }
   ],
   "source": [
    "# Create a new user\n",
    "email = input(\"Enter Your email\")\n",
    "password = input(\"Enter you password\")\n",
    "confirm_password = input(\"Enter you password\")\n",
    "\n",
    "if password == confirm_password:\n",
    "    try:\n",
    "        auth.create_user_with_email_and_password(email, password)\n",
    "        print(\"Success!\")\n",
    "    except:\n",
    "        print(\"Email already exists\")\n",
    "else:\n",
    "    print(\"Password missmatch!\")"
   ]
  },
  {
   "cell_type": "markdown",
   "metadata": {},
   "source": [
    "### 2. Storage"
   ]
  },
  {
   "cell_type": "code",
   "execution_count": 5,
   "metadata": {},
   "outputs": [],
   "source": [
    "firebaseConfig = {\n",
    " ``````````````````````\n",
    " `````````````````````\n",
    " `````````````````````\n",
    "}"
   ]
  },
  {
   "cell_type": "code",
   "execution_count": 7,
   "metadata": {},
   "outputs": [],
   "source": [
    "#we are saying to pyrebase to initialize the app with given crediential\n",
    "firebase = pyrebase.initialize_app(firebaseConfig)"
   ]
  },
  {
   "cell_type": "code",
   "execution_count": 8,
   "metadata": {},
   "outputs": [],
   "source": [
    "# this variable help us to interact the storage on the firebase\n",
    "storage = firebase.storage()"
   ]
  },
  {
   "cell_type": "code",
   "execution_count": null,
   "metadata": {},
   "outputs": [],
   "source": [
    "file_name = input(\"Enter the name fo the file you want to upload\")\n",
    "cloud_file_name = input(\"Enter where you wanted to store the file\")\n",
    "storage.child(cloud_file_name).put(file_name)\n"
   ]
  },
  {
   "cell_type": "code",
   "execution_count": 51,
   "metadata": {},
   "outputs": [
    {
     "data": {
      "text/plain": [
       "'https://firebasestorage.googleapis.com/v0/b/fir-course-9afa4.appspot.com/o/google.txt?alt=media'"
      ]
     },
     "execution_count": 51,
     "metadata": {},
     "output_type": "execute_result"
    }
   ],
   "source": [
    "file_name = input(\"Enter the name fo the file you want to upload\")\n",
    "cloud_file_name = input(\"Enter where you wanted to store the file\")\n",
    "storage.child(cloud_file_name).put(file_name)\n",
    "\n",
    "storage.child(cloud_file_name).get_url(None)"
   ]
  },
  {
   "cell_type": "markdown",
   "metadata": {},
   "source": [
    "### Download from Firebase Storage"
   ]
  },
  {
   "cell_type": "code",
   "execution_count": 53,
   "metadata": {},
   "outputs": [
    {
     "data": {
      "text/plain": [
       "'https://firebasestorage.googleapis.com/v0/b/fir-course-9afa4.appspot.com/o/google.txt?alt=media'"
      ]
     },
     "execution_count": 53,
     "metadata": {},
     "output_type": "execute_result"
    }
   ],
   "source": [
    "cloudfilename=input(\"Enter the name of the file you want to download\")\n",
    "storage.child(cloudfilename).download(\"\", \"download1.txt\")\n",
    "storage.child(cloud_file_name).get_url(None)"
   ]
  },
  {
   "cell_type": "markdown",
   "metadata": {},
   "source": [
    "### Reading File"
   ]
  },
  {
   "cell_type": "code",
   "execution_count": 13,
   "metadata": {},
   "outputs": [
    {
     "name": "stdout",
     "output_type": "stream",
     "text": [
      "b'The Google Story is a book by David Vise and Mark Malseed that takes an in-depth look at the founding of Google and why it is unique among information technology companies. The book discusses the founders, the company, and the culture that Google is known for. It was published on November 15, 2005.'\n"
     ]
    }
   ],
   "source": [
    "import urllib\n",
    "\n",
    "cloud_file_name = input(\"Enter the name of the file you wanted to read\")\n",
    "try:\n",
    "    url = storage.child(cloud_file_name).get_url(None)\n",
    "    f = urllib.request.urlopen(url).read()\n",
    "    print(f)\n",
    "except:\n",
    "    print(\"File Not Fount! Check your input!!\")"
   ]
  },
  {
   "cell_type": "markdown",
   "metadata": {},
   "source": [
    "### Database"
   ]
  },
  {
   "cell_type": "markdown",
   "metadata": {},
   "source": [
    "### 1. Create"
   ]
  },
  {
   "cell_type": "code",
   "execution_count": 14,
   "metadata": {},
   "outputs": [],
   "source": [
    "import pyrebase\n",
    "\n",
    "firebaseConfig = {\n",
    "  \"apiKey\": \"\",\n",
    "  \"authDomain\": \"--.firebaseapp.com\",\n",
    "  \"databaseURL\": \"httourse-seio.com\",\n",
    "  \"projectId\": \"e-9afa4\",\n",
    "  \"storageBucket\": \"-.appspot.com\",\n",
    "  \"messagingSenderId\": \"\",\n",
    "  \"appId\": \"1::web:\",\n",
    "  \"measurementId\": \"\"\n",
    "}\n",
    "\n",
    "firebase = pyrebase.initialize_app(firebaseConfig)\n",
    "db = firebase.database()"
   ]
  },
  {
   "cell_type": "code",
   "execution_count": 16,
   "metadata": {},
   "outputs": [
    {
     "data": {
      "text/plain": [
       "{'name': '-NsYg_a6wsjjgBN7_nEI'}"
      ]
     },
     "execution_count": 16,
     "metadata": {},
     "output_type": "execute_result"
    }
   ],
   "source": [
    "data = {\n",
    "    'age':40,\n",
    "    'address':\"New York\",\n",
    "    'employed':True,\n",
    "    'name':'John Smith'\n",
    "}\n",
    "db.push(data)"
   ]
  },
  {
   "cell_type": "code",
   "execution_count": 17,
   "metadata": {},
   "outputs": [
    {
     "data": {
      "text/plain": [
       "{'name': '-NsYgjapcipfCwQG2Fsc'}"
      ]
     },
     "execution_count": 17,
     "metadata": {},
     "output_type": "execute_result"
    }
   ],
   "source": [
    "data = {\n",
    "    'age':40,\n",
    "    'address':\"New York\",\n",
    "    'employed':True,\n",
    "    'name':'John Smith'\n",
    "}\n",
    "db.child('people').push(data)"
   ]
  },
  {
   "cell_type": "code",
   "execution_count": 37,
   "metadata": {},
   "outputs": [
    {
     "data": {
      "text/plain": [
       "{'address': 'New Delhi', 'age': 30, 'employed': False, 'name': 'Rahul'}"
      ]
     },
     "execution_count": 37,
     "metadata": {},
     "output_type": "execute_result"
    }
   ],
   "source": [
    "data = {\n",
    "    'age':30,\n",
    "    'address':\"New Delhi\",\n",
    "    'employed':False,\n",
    "    'name':'Rahul'\n",
    "}\n",
    "db.child('people').child(\"myownid\").set(data)"
   ]
  },
  {
   "cell_type": "markdown",
   "metadata": {},
   "source": [
    "### 2. Update"
   ]
  },
  {
   "cell_type": "code",
   "execution_count": 20,
   "metadata": {},
   "outputs": [
    {
     "data": {
      "text/plain": [
       "{'name': 'Jane'}"
      ]
     },
     "execution_count": 20,
     "metadata": {},
     "output_type": "execute_result"
    }
   ],
   "source": [
    "# if key don't exist it will create a new key\n",
    "db.child(\"people\").child(\"myownid\").update({'name':'Jane'})"
   ]
  },
  {
   "cell_type": "code",
   "execution_count": 32,
   "metadata": {},
   "outputs": [],
   "source": [
    "people = db.child(\"people\").get()\n",
    "for person in people.each():\n",
    "    if person.val()['name'] == 'Jane':\n",
    "        db.child(\"people\").child(person.key()).update({'name':'Jimmy'})"
   ]
  },
  {
   "cell_type": "markdown",
   "metadata": {},
   "source": [
    "### 3. Read"
   ]
  },
  {
   "cell_type": "code",
   "execution_count": 33,
   "metadata": {},
   "outputs": [
    {
     "name": "stdout",
     "output_type": "stream",
     "text": [
      "{'address': 'New York', 'age': 40, 'employed': True, 'name': 'John Smith'} -NsYgjapcipfCwQG2Fsc\n",
      "{'address': 'New York', 'age': 40, 'employed': True, 'name': 'Jimmy'} myownid\n"
     ]
    }
   ],
   "source": [
    "people = db.child(\"people\").get()\n",
    "for person in people.each():\n",
    "    print(person.val(), person.key())"
   ]
  },
  {
   "cell_type": "markdown",
   "metadata": {},
   "source": [
    "### 4. Delete\n"
   ]
  },
  {
   "cell_type": "markdown",
   "metadata": {},
   "source": [
    "#### Case 1. When we know the key"
   ]
  },
  {
   "cell_type": "code",
   "execution_count": 34,
   "metadata": {},
   "outputs": [],
   "source": [
    "# delete the age\n",
    "db.child(\"people\").child(\"myownid\").child(\"age\").remove()"
   ]
  },
  {
   "cell_type": "code",
   "execution_count": 35,
   "metadata": {},
   "outputs": [],
   "source": [
    "# delete the entire node\n",
    "db.child(\"people\").child(\"myownid\").remove()"
   ]
  },
  {
   "cell_type": "markdown",
   "metadata": {},
   "source": [
    "#### Case 2. When we don't know the key"
   ]
  },
  {
   "cell_type": "code",
   "execution_count": 41,
   "metadata": {},
   "outputs": [],
   "source": [
    "people = db.child(\"people\").get()\n",
    "for person in people.each():\n",
    "    if person.val()['name'] == 'John Smith':\n",
    "        db.child(\"people\").child(person.key()).child(\"age\").remove()"
   ]
  },
  {
   "cell_type": "code",
   "execution_count": null,
   "metadata": {},
   "outputs": [],
   "source": []
  },
  {
   "cell_type": "markdown",
   "metadata": {},
   "source": [
    "### Advantage of NoSQL database\n",
    "1. different nodes have the different objects within this database.\n",
    "1. do not necessarily have to have the same schema.\n",
    "1. or necessarily have to have the same fields or keys."
   ]
  },
  {
   "cell_type": "markdown",
   "metadata": {},
   "source": []
  }
 ],
 "metadata": {
  "kernelspec": {
   "display_name": "Python 3",
   "language": "python",
   "name": "python3"
  },
  "language_info": {
   "codemirror_mode": {
    "name": "ipython",
    "version": 3
   },
   "file_extension": ".py",
   "mimetype": "text/x-python",
   "name": "python",
   "nbconvert_exporter": "python",
   "pygments_lexer": "ipython3",
   "version": "3.12.2"
  }
 },
 "nbformat": 4,
 "nbformat_minor": 2
}
